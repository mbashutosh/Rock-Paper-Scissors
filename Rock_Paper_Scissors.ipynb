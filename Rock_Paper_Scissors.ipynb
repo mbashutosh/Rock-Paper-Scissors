{
  "nbformat": 4,
  "nbformat_minor": 0,
  "metadata": {
    "colab": {
      "provenance": [],
      "authorship_tag": "ABX9TyOxRlBDNUmuKyL5BvQnmuM+",
      "include_colab_link": true
    },
    "kernelspec": {
      "name": "python3",
      "display_name": "Python 3"
    },
    "language_info": {
      "name": "python"
    }
  },
  "cells": [
    {
      "cell_type": "markdown",
      "metadata": {
        "id": "view-in-github",
        "colab_type": "text"
      },
      "source": [
        "<a href=\"https://colab.research.google.com/github/mbashutosh/Rock-Paper-Scissors/blob/main/Rock_Paper_Scissors.ipynb\" target=\"_parent\"><img src=\"https://colab.research.google.com/assets/colab-badge.svg\" alt=\"Open In Colab\"/></a>"
      ]
    },
    {
      "cell_type": "code",
      "execution_count": null,
      "metadata": {
        "id": "c7j2wcuAkGaZ"
      },
      "outputs": [],
      "source": [
        "import random\n",
        "\n",
        "def get_computers_choice():\n",
        "    random_number = random.randint(1,3)\n",
        "    options = {1 : 'rock', 2 : 'paper', 3 : 'scissors'}\n",
        "    computers_choice = options[random_number]\n",
        "    return computers_choice\n",
        "    \n",
        "def get_user_input():\n",
        "       user_input = input('Enter rock/paper/scissors : ')\n",
        "       user_input = user_input.lower()\n",
        "       return user_input\n",
        "    \n",
        "def get_result(user_pick, computer_pick):\n",
        "    if computer_pick == user_pick:\n",
        "       return 'Draw'\n",
        "    elif user_pick == 'paper' and computer_pick == 'rock':\n",
        "         return 'Win'\n",
        "    elif user_pick == 'rock' and computer_pick == 'scissors':\n",
        "         return ' Win'\n",
        "    elif user_pick == 'scissors' and computer_pick == 'paper':\n",
        "         return 'Win'\n",
        "    else:\n",
        "         return 'Lose'\n",
        "         \n",
        "computer_pick = get_computers_choice()\n",
        "\n",
        "\n",
        "while True:\n",
        "    user_pick = get_user_input()\n",
        "    if user_pick in ['rock', 'paper', 'scissors']: break\n",
        "       \n",
        "       \n",
        "result = get_result(user_pick, computer_pick)\n",
        "\n",
        "print(f'Computer\\'s pick : {computer_pick}')\n",
        "\n",
        "print(f'Your pick : {user_pick}')\n",
        "\n",
        "print(f'You {result}')"
      ]
    }
  ]
}